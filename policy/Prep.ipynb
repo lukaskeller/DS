{
 "cells": [
  {
   "cell_type": "code",
   "execution_count": 132,
   "metadata": {},
   "outputs": [],
   "source": [
    "import pandas as pd\n",
    "import numpy as np\n",
    "import matplotlib.pyplot as plt\n",
    "\n",
    "\n",
    "\n",
    "file = \"train_ZoGVYWq.csv\"\n",
    "data = pd.read_csv(file)\n",
    "\n",
    "def pre_prep(df):\n",
    "    data = df.copy()\n",
    "    data.set_index('id', inplace=True)\n",
    "    data['renewal'] = data['renewal'].astype('bool')\n",
    "    data['sourcing_channel'] = data['sourcing_channel'].astype('category') \n",
    "    data['residence_area_type'] = data['residence_area_type'].astype('category')\n",
    "    new_names = {'perc_premium_paid_by_cash_credit': 'cash_credit',\n",
    "                'Count_3-6_months_late': 'late3',\n",
    "                'Count_6-12_months_late': 'late6',\n",
    "                'Count_more_than_12_months_late': 'late12',\n",
    "                'application_underwriting_score': 'score',\n",
    "                'residence_area_type': 'residence',\n",
    "                'no_of_premiums_paid': 'prems_paid',\n",
    "                'sourcing_channel': 'channel'}\n",
    "    data.rename(index=str, columns=new_names, inplace=True)\n",
    "    return data\n",
    "\n",
    "data_pre_prepped = pre_prep(data)"
   ]
  },
  {
   "cell_type": "code",
   "execution_count": 133,
   "metadata": {},
   "outputs": [
    {
     "data": {
      "text/html": [
       "<div>\n",
       "<style scoped>\n",
       "    .dataframe tbody tr th:only-of-type {\n",
       "        vertical-align: middle;\n",
       "    }\n",
       "\n",
       "    .dataframe tbody tr th {\n",
       "        vertical-align: top;\n",
       "    }\n",
       "\n",
       "    .dataframe thead th {\n",
       "        text-align: right;\n",
       "    }\n",
       "</style>\n",
       "<table border=\"1\" class=\"dataframe\">\n",
       "  <thead>\n",
       "    <tr style=\"text-align: right;\">\n",
       "      <th></th>\n",
       "      <th>cash_credit</th>\n",
       "      <th>age_in_days</th>\n",
       "      <th>Income</th>\n",
       "      <th>late3</th>\n",
       "      <th>late6</th>\n",
       "      <th>late12</th>\n",
       "      <th>score</th>\n",
       "      <th>prems_paid</th>\n",
       "      <th>channel</th>\n",
       "      <th>residence</th>\n",
       "      <th>premium</th>\n",
       "      <th>renewal</th>\n",
       "    </tr>\n",
       "    <tr>\n",
       "      <th>id</th>\n",
       "      <th></th>\n",
       "      <th></th>\n",
       "      <th></th>\n",
       "      <th></th>\n",
       "      <th></th>\n",
       "      <th></th>\n",
       "      <th></th>\n",
       "      <th></th>\n",
       "      <th></th>\n",
       "      <th></th>\n",
       "      <th></th>\n",
       "      <th></th>\n",
       "    </tr>\n",
       "  </thead>\n",
       "  <tbody>\n",
       "    <tr>\n",
       "      <th>110936</th>\n",
       "      <td>0.429</td>\n",
       "      <td>12058</td>\n",
       "      <td>355060</td>\n",
       "      <td>0.0</td>\n",
       "      <td>0.0</td>\n",
       "      <td>0.0</td>\n",
       "      <td>99.02</td>\n",
       "      <td>13</td>\n",
       "      <td>C</td>\n",
       "      <td>Urban</td>\n",
       "      <td>3300</td>\n",
       "      <td>True</td>\n",
       "    </tr>\n",
       "    <tr>\n",
       "      <th>41492</th>\n",
       "      <td>0.010</td>\n",
       "      <td>21546</td>\n",
       "      <td>315150</td>\n",
       "      <td>0.0</td>\n",
       "      <td>0.0</td>\n",
       "      <td>0.0</td>\n",
       "      <td>99.89</td>\n",
       "      <td>21</td>\n",
       "      <td>A</td>\n",
       "      <td>Urban</td>\n",
       "      <td>18000</td>\n",
       "      <td>True</td>\n",
       "    </tr>\n",
       "    <tr>\n",
       "      <th>31300</th>\n",
       "      <td>0.917</td>\n",
       "      <td>17531</td>\n",
       "      <td>84140</td>\n",
       "      <td>2.0</td>\n",
       "      <td>3.0</td>\n",
       "      <td>1.0</td>\n",
       "      <td>98.69</td>\n",
       "      <td>7</td>\n",
       "      <td>C</td>\n",
       "      <td>Rural</td>\n",
       "      <td>3300</td>\n",
       "      <td>False</td>\n",
       "    </tr>\n",
       "    <tr>\n",
       "      <th>19415</th>\n",
       "      <td>0.049</td>\n",
       "      <td>15341</td>\n",
       "      <td>250510</td>\n",
       "      <td>0.0</td>\n",
       "      <td>0.0</td>\n",
       "      <td>0.0</td>\n",
       "      <td>99.57</td>\n",
       "      <td>9</td>\n",
       "      <td>A</td>\n",
       "      <td>Urban</td>\n",
       "      <td>9600</td>\n",
       "      <td>True</td>\n",
       "    </tr>\n",
       "    <tr>\n",
       "      <th>99379</th>\n",
       "      <td>0.052</td>\n",
       "      <td>31400</td>\n",
       "      <td>198680</td>\n",
       "      <td>0.0</td>\n",
       "      <td>0.0</td>\n",
       "      <td>0.0</td>\n",
       "      <td>99.87</td>\n",
       "      <td>12</td>\n",
       "      <td>B</td>\n",
       "      <td>Urban</td>\n",
       "      <td>9600</td>\n",
       "      <td>True</td>\n",
       "    </tr>\n",
       "  </tbody>\n",
       "</table>\n",
       "</div>"
      ],
      "text/plain": [
       "        cash_credit  age_in_days  Income  late3  late6  late12  score  \\\n",
       "id                                                                      \n",
       "110936        0.429        12058  355060    0.0    0.0     0.0  99.02   \n",
       "41492         0.010        21546  315150    0.0    0.0     0.0  99.89   \n",
       "31300         0.917        17531   84140    2.0    3.0     1.0  98.69   \n",
       "19415         0.049        15341  250510    0.0    0.0     0.0  99.57   \n",
       "99379         0.052        31400  198680    0.0    0.0     0.0  99.87   \n",
       "\n",
       "        prems_paid channel residence  premium  renewal  \n",
       "id                                                      \n",
       "110936          13       C     Urban     3300     True  \n",
       "41492           21       A     Urban    18000     True  \n",
       "31300            7       C     Rural     3300    False  \n",
       "19415            9       A     Urban     9600     True  \n",
       "99379           12       B     Urban     9600     True  "
      ]
     },
     "execution_count": 133,
     "metadata": {},
     "output_type": "execute_result"
    }
   ],
   "source": [
    "data_pre_prepped.head()"
   ]
  },
  {
   "cell_type": "code",
   "execution_count": 178,
   "metadata": {},
   "outputs": [
    {
     "data": {
      "text/plain": [
       "79853"
      ]
     },
     "execution_count": 178,
     "metadata": {},
     "output_type": "execute_result"
    }
   ],
   "source": [
    "from sklearn.model_selection import train_test_split\n",
    "\n",
    "def create_dummies(df):\n",
    "    df_new = pd.get_dummies(data=df.copy(), prefix='channel', columns=['channel'], drop_first=False)\n",
    "    df_new = pd.get_dummies(data=df_new, prefix='residence', columns=['residence'], drop_first=False)\n",
    "    return df_new\n",
    "\n",
    "data_with_dummies = create_dummies(data_pre_prepped)\n",
    "\n",
    "X_train, X_test, y_train, y_test = \\\n",
    "train_test_split(data_with_dummies.drop('renewal', axis=1), data_pre_prepped['renewal'], test_size=0.20, random_state=42)\n",
    "\n",
    "# train_test_split(data_pre_prepped, data_pre_prepped['renewal'], test_size=0.20, random_state=42)\n",
    "len(data_with_dummies)"
   ]
  },
  {
   "cell_type": "code",
   "execution_count": 135,
   "metadata": {},
   "outputs": [
    {
     "name": "stdout",
     "output_type": "stream",
     "text": [
      "<class 'pandas.core.frame.DataFrame'>\n",
      "Index: 63882 entries, 56158 to 99690\n",
      "Data columns (total 16 columns):\n",
      "cash_credit        63882 non-null float64\n",
      "age_in_days        63882 non-null int64\n",
      "Income             63882 non-null int64\n",
      "late3              63801 non-null float64\n",
      "late6              63801 non-null float64\n",
      "late12             63801 non-null float64\n",
      "score              61534 non-null float64\n",
      "prems_paid         63882 non-null int64\n",
      "premium            63882 non-null int64\n",
      "channel_A          63882 non-null uint8\n",
      "channel_B          63882 non-null uint8\n",
      "channel_C          63882 non-null uint8\n",
      "channel_D          63882 non-null uint8\n",
      "channel_E          63882 non-null uint8\n",
      "residence_Rural    63882 non-null uint8\n",
      "residence_Urban    63882 non-null uint8\n",
      "dtypes: float64(5), int64(4), uint8(7)\n",
      "memory usage: 5.3+ MB\n"
     ]
    }
   ],
   "source": [
    "X_train.info()"
   ]
  },
  {
   "cell_type": "markdown",
   "metadata": {},
   "source": [
    " # Imputation\n",
    " "
   ]
  },
  {
   "cell_type": "code",
   "execution_count": 136,
   "metadata": {},
   "outputs": [],
   "source": [
    "from sklearn.preprocessing import Imputer\n",
    "imp = Imputer(missing_values='NaN', strategy='mean', axis=0)\n",
    "X_train[['score', 'late3', 'late6', 'late12']] = imp.fit_transform(X_train[['score', 'late3', 'late6', 'late12']])"
   ]
  },
  {
   "cell_type": "code",
   "execution_count": 137,
   "metadata": {},
   "outputs": [
    {
     "name": "stdout",
     "output_type": "stream",
     "text": [
      "<class 'pandas.core.frame.DataFrame'>\n",
      "Index: 63882 entries, 56158 to 99690\n",
      "Data columns (total 16 columns):\n",
      "cash_credit        63882 non-null float64\n",
      "age_in_days        63882 non-null int64\n",
      "Income             63882 non-null int64\n",
      "late3              63882 non-null float64\n",
      "late6              63882 non-null float64\n",
      "late12             63882 non-null float64\n",
      "score              63882 non-null float64\n",
      "prems_paid         63882 non-null int64\n",
      "premium            63882 non-null int64\n",
      "channel_A          63882 non-null uint8\n",
      "channel_B          63882 non-null uint8\n",
      "channel_C          63882 non-null uint8\n",
      "channel_D          63882 non-null uint8\n",
      "channel_E          63882 non-null uint8\n",
      "residence_Rural    63882 non-null uint8\n",
      "residence_Urban    63882 non-null uint8\n",
      "dtypes: float64(5), int64(4), uint8(7)\n",
      "memory usage: 5.3+ MB\n"
     ]
    }
   ],
   "source": [
    "X_train.info()"
   ]
  },
  {
   "cell_type": "markdown",
   "metadata": {},
   "source": [
    "# Transform categories"
   ]
  },
  {
   "cell_type": "code",
   "execution_count": null,
   "metadata": {},
   "outputs": [],
   "source": []
  },
  {
   "cell_type": "code",
   "execution_count": 138,
   "metadata": {},
   "outputs": [],
   "source": [
    "\n",
    "X_train_dummy.describe()\n",
    "X_train_dummy.to_csv(\"train_imputed_encoded.csv\")"
   ]
  },
  {
   "cell_type": "markdown",
   "metadata": {},
   "source": [
    "# Transform numerics distributions (not for now)"
   ]
  },
  {
   "cell_type": "markdown",
   "metadata": {},
   "source": [
    "# Train LogReg Model"
   ]
  },
  {
   "cell_type": "code",
   "execution_count": 139,
   "metadata": {},
   "outputs": [],
   "source": [
    "from sklearn.linear_model import LogisticRegression\n",
    "from sklearn.metrics import classification_report"
   ]
  },
  {
   "cell_type": "code",
   "execution_count": 140,
   "metadata": {},
   "outputs": [],
   "source": [
    "m = LogisticRegression()"
   ]
  },
  {
   "cell_type": "code",
   "execution_count": 141,
   "metadata": {},
   "outputs": [
    {
     "data": {
      "text/plain": [
       "LogisticRegression(C=1.0, class_weight=None, dual=False, fit_intercept=True,\n",
       "          intercept_scaling=1, max_iter=100, multi_class='ovr', n_jobs=1,\n",
       "          penalty='l2', random_state=None, solver='liblinear', tol=0.0001,\n",
       "          verbose=0, warm_start=False)"
      ]
     },
     "execution_count": 141,
     "metadata": {},
     "output_type": "execute_result"
    }
   ],
   "source": [
    "m.fit(X=X_train_dummy, y=y_train)"
   ]
  },
  {
   "cell_type": "code",
   "execution_count": 146,
   "metadata": {},
   "outputs": [
    {
     "data": {
      "text/plain": [
       "array([[-5.27390676e-04,  7.16076451e-05,  1.25179892e-06,\n",
       "        -1.39039126e-03, -9.94464830e-04, -5.97382053e-04,\n",
       "         1.20915261e-02,  1.92622519e-04, -3.83326185e-07,\n",
       "         1.95019623e-04, -1.09913258e-05, -1.90664195e-05,\n",
       "        -4.26997503e-05, -3.88051449e-06,  4.94193409e-05,\n",
       "         6.89622716e-05]])"
      ]
     },
     "execution_count": 146,
     "metadata": {},
     "output_type": "execute_result"
    }
   ],
   "source": [
    "m.coef_"
   ]
  },
  {
   "cell_type": "markdown",
   "metadata": {},
   "source": [
    "## Prep model test input"
   ]
  },
  {
   "cell_type": "code",
   "execution_count": 153,
   "metadata": {},
   "outputs": [
    {
     "data": {
      "text/plain": [
       "628"
      ]
     },
     "execution_count": 153,
     "metadata": {},
     "output_type": "execute_result"
    }
   ],
   "source": [
    "sum(X_test.isnull().any(axis=1))"
   ]
  },
  {
   "cell_type": "code",
   "execution_count": 172,
   "metadata": {},
   "outputs": [
    {
     "data": {
      "text/plain": [
       "0"
      ]
     },
     "execution_count": 172,
     "metadata": {},
     "output_type": "execute_result"
    }
   ],
   "source": [
    "X_test_imp = X_test.copy()\n",
    "X_test_imp[['score', 'late3', 'late6', 'late12']] = imp.transform(X_test_imp[['score', 'late3', 'late6', 'late12']])\n",
    "# X_test_imp.head()\n",
    "sum(X_test_imp.isnull().any(axis=1))"
   ]
  },
  {
   "cell_type": "code",
   "execution_count": 173,
   "metadata": {},
   "outputs": [
    {
     "data": {
      "text/plain": [
       "array([0.93225953, 0.95626013, 0.94712773, ..., 0.94568368, 0.90781192,\n",
       "       0.94813266])"
      ]
     },
     "execution_count": 173,
     "metadata": {},
     "output_type": "execute_result"
    }
   ],
   "source": [
    "y_proba = m.predict_proba(X_test_imp)\n",
    "# y_pred = m.predict(X_test_imp)\n",
    "#print(classification_report(y_true=y_test, y_pred=y_pred))\n",
    "y_proba.shape\n",
    "y_proba[:,1]"
   ]
  },
  {
   "cell_type": "code",
   "execution_count": 177,
   "metadata": {},
   "outputs": [
    {
     "name": "stdout",
     "output_type": "stream",
     "text": [
      "             precision    recall  f1-score   support\n",
      "\n",
      "      False       0.11      0.16      0.13      1032\n",
      "       True       0.94      0.91      0.93     14939\n",
      "\n",
      "avg / total       0.89      0.87      0.88     15971\n",
      "\n"
     ]
    }
   ],
   "source": [
    "print(classification_report(y_true=y_test, y_pred=y_proba[:,1]>.9))"
   ]
  },
  {
   "cell_type": "code",
   "execution_count": 176,
   "metadata": {},
   "outputs": [
    {
     "data": {
      "text/plain": [
       "(array([  8.,  11.,  23.,  37.,  27.,  41.,  53.,  68.,  80.,  93., 113.,\n",
       "        108., 147., 149., 159., 161., 194., 202., 235., 253., 242., 253.,\n",
       "        283., 324., 380., 395., 447., 480., 507., 565., 589., 613., 662.,\n",
       "        704., 719., 755., 754., 780., 750., 773., 611., 609., 485., 407.,\n",
       "        294., 185., 100.,  50.,  20.,  16.,  10.,  11.,   9.,   9.,  18.]),\n",
       " array([0.85590018, 0.85852017, 0.86114017, 0.86376017, 0.86638016,\n",
       "        0.86900016, 0.87162016, 0.87424015, 0.87686015, 0.87948015,\n",
       "        0.88210015, 0.88472014, 0.88734014, 0.88996014, 0.89258013,\n",
       "        0.89520013, 0.89782013, 0.90044012, 0.90306012, 0.90568012,\n",
       "        0.90830011, 0.91092011, 0.91354011, 0.9161601 , 0.9187801 ,\n",
       "        0.9214001 , 0.92402009, 0.92664009, 0.92926009, 0.93188008,\n",
       "        0.93450008, 0.93712008, 0.93974007, 0.94236007, 0.94498007,\n",
       "        0.94760006, 0.95022006, 0.95284006, 0.95546005, 0.95808005,\n",
       "        0.96070005, 0.96332005, 0.96594004, 0.96856004, 0.97118004,\n",
       "        0.97380003, 0.97642003, 0.97904003, 0.98166002, 0.98428002,\n",
       "        0.98690002, 0.98952001, 0.99214001, 0.99476001, 0.99738   ,\n",
       "        1.        ]),\n",
       " <a list of 55 Patch objects>)"
      ]
     },
     "execution_count": 176,
     "metadata": {},
     "output_type": "execute_result"
    },
    {
     "data": {
      "image/png": "[encoded data removed]",
      "text/plain": [
       "<Figure size 432x288 with 1 Axes>"
      ]
     },
     "metadata": {},
     "output_type": "display_data"
    }
   ],
   "source": [
    "plt.hist(y_proba[:,1], bins='auto')"
   ]
  },
  {
   "cell_type": "code",
   "execution_count": 188,
   "metadata": {},
   "outputs": [],
   "source": [
    "from sklearn import metrics\n",
    "fpr, tpr, thresholds = metrics.roc_curve(y_test, y_proba[:,1], pos_label=True)\n",
    "roc_auc = metrics.roc_auc_score(y_test, y_proba[:,1])"
   ]
  },
  {
   "cell_type": "code",
   "execution_count": 189,
   "metadata": {},
   "outputs": [
    {
     "data": {
      "image/png": "[encoded data removed]",
      "text/plain": [
       "<Figure size 432x288 with 1 Axes>"
      ]
     },
     "metadata": {},
     "output_type": "display_data"
    }
   ],
   "source": [
    "plt.figure()\n",
    "lw = 2\n",
    "plt.plot(fpr, tpr, color='darkorange',\n",
    "         lw=lw, label='ROC curve (area = %0.2f)' % roc_auc)\n",
    "plt.plot([0, 1], [0, 1], color='navy', lw=lw, linestyle='--')\n",
    "plt.xlim([0.0, 1.0])\n",
    "plt.ylim([0.0, 1.05])\n",
    "plt.xlabel('False Positive Rate')\n",
    "plt.ylabel('True Positive Rate')\n",
    "plt.title('Receiver operating characteristic example')\n",
    "plt.legend(loc=\"lower right\")\n",
    "plt.show()"
   ]
  },
  {
   "cell_type": "code",
   "execution_count": null,
   "metadata": {},
   "outputs": [],
   "source": []
  }
 ],
 "metadata": {
  "kernelspec": {
   "display_name": "Python 3",
   "language": "python",
   "name": "python3"
  },
  "language_info": {
   "codemirror_mode": {
    "name": "ipython",
    "version": 3
   },
   "file_extension": ".py",
   "mimetype": "text/x-python",
   "name": "python",
   "nbconvert_exporter": "python",
   "pygments_lexer": "ipython3",
   "version": "3.6.5"
  }
 },
 "nbformat": 4,
 "nbformat_minor": 2
}
